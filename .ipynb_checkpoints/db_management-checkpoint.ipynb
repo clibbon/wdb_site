{
 "cells": [
  {
   "cell_type": "code",
   "execution_count": 12,
   "metadata": {
    "collapsed": false
   },
   "outputs": [],
   "source": [
    "import psycopg2\n",
    "con_string = ('''\n",
    "            dbname= 'warranty_db'\n",
    "            user= 'clibbon'\n",
    "            password= 'qqqqqq'\n",
    "            host= '127.0.0.1'\n",
    "            '''\n",
    "            )"
   ]
  },
  {
   "cell_type": "code",
   "execution_count": 13,
   "metadata": {
    "collapsed": false
   },
   "outputs": [],
   "source": [
    "con = psycopg2.connect(con_string)"
   ]
  },
  {
   "cell_type": "raw",
   "metadata": {},
   "source": [
    "con = psycopg2.connect(con_string"
   ]
  }
 ],
 "metadata": {
  "kernelspec": {
   "display_name": "Python 2",
   "language": "python",
   "name": "python2"
  },
  "language_info": {
   "codemirror_mode": {
    "name": "ipython",
    "version": 2
   },
   "file_extension": ".py",
   "mimetype": "text/x-python",
   "name": "python",
   "nbconvert_exporter": "python",
   "pygments_lexer": "ipython2",
   "version": "2.7.6"
  }
 },
 "nbformat": 4,
 "nbformat_minor": 0
}
